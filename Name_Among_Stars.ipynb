{
  "nbformat": 4,
  "nbformat_minor": 0,
  "metadata": {
    "colab": {
      "provenance": [],
      "authorship_tag": "ABX9TyNWJdHhqBr5XLHfuMmX6vxZ",
      "include_colab_link": true
    },
    "kernelspec": {
      "name": "python3",
      "display_name": "Python 3"
    },
    "language_info": {
      "name": "python"
    }
  },
  "cells": [
    {
      "cell_type": "markdown",
      "metadata": {
        "id": "view-in-github",
        "colab_type": "text"
      },
      "source": [
        "<a href=\"https://colab.research.google.com/github/Anushreya-Satish/Python/blob/main/Name_Among_Stars.ipynb\" target=\"_parent\"><img src=\"https://colab.research.google.com/assets/colab-badge.svg\" alt=\"Open In Colab\"/></a>"
      ]
    },
    {
      "cell_type": "code",
      "execution_count": null,
      "metadata": {
        "id": "cMUoyOSVfIX_"
      },
      "outputs": [],
      "source": [
        "name = (input(\"Enter your name: \"))\n",
        "iteration= len(name)\n",
        "for i in range(0,iteration):\n",
        "  for j in range(0,iteration):\n",
        "    if(i==j):\n",
        "      print(name[j],sep=\"  \", end=\"  \")\n",
        "    else:\n",
        "      print(\"*\", sep=\"  \", end=\"  \")\n",
        "    print()"
      ]
    }
  ]
}