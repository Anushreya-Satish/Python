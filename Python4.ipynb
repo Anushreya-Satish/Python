{
  "nbformat": 4,
  "nbformat_minor": 0,
  "metadata": {
    "colab": {
      "name": "Python4.ipynb",
      "provenance": [],
      "collapsed_sections": [],
      "authorship_tag": "ABX9TyM03FjN/XrspVuF7WPYmA7B",
      "include_colab_link": true
    },
    "kernelspec": {
      "name": "python3",
      "display_name": "Python 3"
    },
    "language_info": {
      "name": "python"
    }
  },
  "cells": [
    {
      "cell_type": "markdown",
      "metadata": {
        "id": "view-in-github",
        "colab_type": "text"
      },
      "source": [
        "<a href=\"https://colab.research.google.com/github/Anushreya-Satish/Python/blob/main/Python4.ipynb\" target=\"_parent\"><img src=\"https://colab.research.google.com/assets/colab-badge.svg\" alt=\"Open In Colab\"/></a>"
      ]
    },
    {
      "cell_type": "code",
      "execution_count": 7,
      "metadata": {
        "colab": {
          "base_uri": "https://localhost:8080/"
        },
        "id": "60Lef2F2Ww_N",
        "outputId": "94294f60-176d-4956-d5fa-e1b4f824d8f5"
      },
      "outputs": [
        {
          "output_type": "stream",
          "name": "stdout",
          "text": [
            "Enter lower range limit: 3\n",
            "Enter upper range limit: 30\n",
            "Enter the number to be divided by: 4\n",
            "4\n",
            "8\n",
            "12\n",
            "16\n",
            "20\n",
            "24\n",
            "28\n"
          ]
        }
      ],
      "source": [
        "lower = int(input(\"Enter lower range limit: \"))\n",
        "upper = int(input(\"Enter upper range limit: \"))\n",
        "n = int(input(\"Enter the number to be divided by: \"))\n",
        "\n",
        "for i in range(lower, upper +1):\n",
        "    if(i%n==0):\n",
        "        print(i)"
      ]
    }
  ]
}