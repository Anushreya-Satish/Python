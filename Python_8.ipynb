{
  "nbformat": 4,
  "nbformat_minor": 0,
  "metadata": {
    "colab": {
      "name": "Python 8.ipynb",
      "provenance": [],
      "collapsed_sections": [],
      "authorship_tag": "ABX9TyMa+09dLGYGIUGjE3rPB1XC",
      "include_colab_link": true
    },
    "kernelspec": {
      "name": "python3",
      "display_name": "Python 3"
    },
    "language_info": {
      "name": "python"
    }
  },
  "cells": [
    {
      "cell_type": "markdown",
      "metadata": {
        "id": "view-in-github",
        "colab_type": "text"
      },
      "source": [
        "<a href=\"https://colab.research.google.com/github/Anushreya-Satish/Python/blob/main/Python_8.ipynb\" target=\"_parent\"><img src=\"https://colab.research.google.com/assets/colab-badge.svg\" alt=\"Open In Colab\"/></a>"
      ]
    },
    {
      "cell_type": "code",
      "execution_count": 6,
      "metadata": {
        "id": "682vwEVO0U7K"
      },
      "outputs": [],
      "source": [
        "class MovieReview:\n",
        "    def __init__(self,movie,story,actors,music):\n",
        "        #Movie name\n",
        "        self.movie_name = movie\n",
        "        #Ratings\n",
        "        self.story_rating = story\n",
        "        self.actor_rating = actors\n",
        "        self.music_rating = music\n",
        "        #Average Ratings\n",
        "        self.avg = int((self.story_rating + self.actor_rating + self.music_rating)/3)\n",
        "        #Movie Info\n",
        "        self.myrating = {\n",
        "            \"Movie Name\" : self.movie_name,\n",
        "            \"Story Rating\" : self.story_rating,\n",
        "            \"Actor Rating\" : self.actor_rating,\n",
        "            \"Music Rating\" : self.music_rating,\n",
        "            \"Avg Rating\" : self.avg\n",
        "        }\n",
        "\n",
        "        def add_movie_ratings(self, movie_list):\n",
        "              movie_list.append(self.myrating)\n",
        "\n",
        "        def avg_star_ratings(self, movie_list):\n",
        "            for movie in movie_list:\n",
        "                if(movie[\"Avg Rating\"] == 1):\n",
        "                    print(\"Thanks for the response, You rated movie with * \")\n",
        "                    print(movie)\n",
        "                elif(movie[\"Avg Rating\"] == 2):\n",
        "                    print(\"Thanks for the response, You rated movie with * *  \")\n",
        "                    print(movie)\n",
        "                elif(movie[\"Avg Rating\"] == 3):\n",
        "                  print(\"Thanks for the response, You rated movie with * * *  \")\n",
        "                  print(movie)\n",
        "                elif(movie[\"Avg Rating\"] == 4):\n",
        "                  print(\"Thanks for the response, You rated movie with * * * *  \")\n",
        "                  print(movie)            \n",
        "                else:\n",
        "                  print(\"Thanks for the response, You rated movie with * * * * * \")\n",
        "                  print(movie)\n",
        "\n",
        "        moviereviews = []\n",
        "        review1 = MovieReview(\"Beautiful Sound\",5,5,5,5)\n",
        "        review1.add_movie_ratings(moviereviews)\n",
        "        review1.avg_star_ratings(moviereviews)\n",
        "        review2 = MovieReview(\"Good Life\",1,1,3,1)\n",
        "        review2.add_movie_ratings(moviereviews)\n",
        "        review2.avg_star_ratings(moviereviews)\n",
        "        review3 = MovieReview(\"Smiley\",1,1,3,1)\n",
        "        review3.add_movie_ratings(moviereviews)\n",
        "        review3.avg_star_ratings(moviereviews)\n",
        "\n"
      ]
    }
  ]
}