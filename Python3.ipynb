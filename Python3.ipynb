{
  "nbformat": 4,
  "nbformat_minor": 0,
  "metadata": {
    "colab": {
      "name": "Python3.ipynb",
      "provenance": [],
      "collapsed_sections": [],
      "authorship_tag": "ABX9TyPHgyFCiNYBdplmWFU8Yjlp",
      "include_colab_link": true
    },
    "kernelspec": {
      "name": "python3",
      "display_name": "Python 3"
    },
    "language_info": {
      "name": "python"
    }
  },
  "cells": [
    {
      "cell_type": "markdown",
      "metadata": {
        "id": "view-in-github",
        "colab_type": "text"
      },
      "source": [
        "<a href=\"https://colab.research.google.com/github/Anushreya-Satish/Python/blob/main/Python3.ipynb\" target=\"_parent\"><img src=\"https://colab.research.google.com/assets/colab-badge.svg\" alt=\"Open In Colab\"/></a>"
      ]
    },
    {
      "cell_type": "code",
      "execution_count": 15,
      "metadata": {
        "colab": {
          "base_uri": "https://localhost:8080/"
        },
        "id": "PUZgClmKOBeM",
        "outputId": "9c42b124-c217-44bc-e936-dfa7e783c961"
      },
      "outputs": [
        {
          "output_type": "stream",
          "name": "stdout",
          "text": [
            "Enter number:87\n",
            "Number entered:  87\n",
            "Number of times it comes in the list:  4\n"
          ]
        }
      ],
      "source": [
        "list1 = [87,76,29,20,87,20,76,29,87,20,29,76,51,34,68,34,68,51,50,29,87,34]\n",
        "\n",
        "num1 = int(input(\"Enter number:\"))\n",
        "print(\"Number entered: \",num1)\n",
        "\n",
        "counter = 0\n",
        "\n",
        "for i in list1:\n",
        "    if (num1  == i):\n",
        "        counter  = counter + 1\n",
        "\n",
        "print(\"Number of times it comes in the list: \",counter)"
      ]
    },
    {
      "cell_type": "code",
      "source": [
        "for i in range(6,61,6):\n",
        "    print(i)"
      ],
      "metadata": {
        "colab": {
          "base_uri": "https://localhost:8080/"
        },
        "id": "ORfBt_HYTCF3",
        "outputId": "9af06246-bfc9-47f8-92f9-88e5381486ad"
      },
      "execution_count": 25,
      "outputs": [
        {
          "output_type": "stream",
          "name": "stdout",
          "text": [
            "6\n",
            "12\n",
            "18\n",
            "24\n",
            "30\n",
            "36\n",
            "42\n",
            "48\n",
            "54\n",
            "60\n"
          ]
        }
      ]
    },
    {
      "cell_type": "code",
      "source": [
        "list1 = [\"Satish\",\"Anuradha\",\"Anushreya\",\"Anushree\"]\n",
        "\n",
        "for i in list1:\n",
        "  for k in i:\n",
        "    print(k)\n",
        "\n",
        "print(list1[2:4])\n",
        "print(list1[0:2])\n",
        "print(list1[-3:-1])"
      ],
      "metadata": {
        "colab": {
          "base_uri": "https://localhost:8080/"
        },
        "id": "hMGkIwH-T-S0",
        "outputId": "13e51469-9d67-45c8-f847-ab5c64d4c279"
      },
      "execution_count": 41,
      "outputs": [
        {
          "output_type": "stream",
          "name": "stdout",
          "text": [
            "S\n",
            "a\n",
            "t\n",
            "i\n",
            "s\n",
            "h\n",
            "A\n",
            "n\n",
            "u\n",
            "r\n",
            "a\n",
            "d\n",
            "h\n",
            "a\n",
            "A\n",
            "n\n",
            "u\n",
            "s\n",
            "h\n",
            "r\n",
            "e\n",
            "y\n",
            "a\n",
            "A\n",
            "n\n",
            "u\n",
            "s\n",
            "h\n",
            "r\n",
            "e\n",
            "e\n",
            "['Anushreya', 'Anushree']\n",
            "['Satish', 'Anuradha']\n",
            "['Anuradha', 'Anushreya']\n"
          ]
        }
      ]
    }
  ]
}