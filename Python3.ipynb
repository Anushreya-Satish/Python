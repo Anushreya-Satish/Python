{
  "nbformat": 4,
  "nbformat_minor": 0,
  "metadata": {
    "colab": {
      "name": "Python3.ipynb",
      "provenance": [],
      "collapsed_sections": [],
      "authorship_tag": "ABX9TyMthTtJDQEjbb4tNVeZKJm3",
      "include_colab_link": true
    },
    "kernelspec": {
      "name": "python3",
      "display_name": "Python 3"
    },
    "language_info": {
      "name": "python"
    }
  },
  "cells": [
    {
      "cell_type": "markdown",
      "metadata": {
        "id": "view-in-github",
        "colab_type": "text"
      },
      "source": [
        "<a href=\"https://colab.research.google.com/github/Anushreya-Satish/Python/blob/main/Python3.ipynb\" target=\"_parent\"><img src=\"https://colab.research.google.com/assets/colab-badge.svg\" alt=\"Open In Colab\"/></a>"
      ]
    },
    {
      "cell_type": "code",
      "execution_count": 15,
      "metadata": {
        "colab": {
          "base_uri": "https://localhost:8080/"
        },
        "id": "PUZgClmKOBeM",
        "outputId": "9c42b124-c217-44bc-e936-dfa7e783c961"
      },
      "outputs": [
        {
          "output_type": "stream",
          "name": "stdout",
          "text": [
            "Enter number:87\n",
            "Number entered:  87\n",
            "Number of times it comes in the list:  4\n"
          ]
        }
      ],
      "source": [
        "list1 = [87,76,29,20,87,20,76,29,87,20,29,76,51,34,68,34,68,51,50,29,87,34]\n",
        "\n",
        "num1 = int(input(\"Enter number:\"))\n",
        "print(\"Number entered: \",num1)\n",
        "\n",
        "counter = 0\n",
        "\n",
        "for i in list1:\n",
        "    if (num1  == i):\n",
        "        counter  = counter + 1\n",
        "\n",
        "print(\"Number of times it comes in the list: \",counter)"
      ]
    }
  ]
}