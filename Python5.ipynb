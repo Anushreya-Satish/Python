{
  "nbformat": 4,
  "nbformat_minor": 0,
  "metadata": {
    "colab": {
      "name": "Python5.ipynb",
      "provenance": [],
      "collapsed_sections": [],
      "authorship_tag": "ABX9TyPFpdMz4lMJto7F97vlFaUN",
      "include_colab_link": true
    },
    "kernelspec": {
      "name": "python3",
      "display_name": "Python 3"
    },
    "language_info": {
      "name": "python"
    }
  },
  "cells": [
    {
      "cell_type": "markdown",
      "metadata": {
        "id": "view-in-github",
        "colab_type": "text"
      },
      "source": [
        "<a href=\"https://colab.research.google.com/github/Anushreya-Satish/Python/blob/main/Python5.ipynb\" target=\"_parent\"><img src=\"https://colab.research.google.com/assets/colab-badge.svg\" alt=\"Open In Colab\"/></a>"
      ]
    },
    {
      "cell_type": "code",
      "execution_count": 76,
      "metadata": {
        "colab": {
          "base_uri": "https://localhost:8080/"
        },
        "id": "yZvFlyEA1Z3l",
        "outputId": "edb11889-079e-42dc-89e6-b2e46a9d78fb"
      },
      "outputs": [
        {
          "output_type": "stream",
          "name": "stdout",
          "text": [
            "Enter number: 5\n",
            "5 5 5 5 5 \n",
            "4 4 4 4 \n",
            "3 3 3 \n",
            "2 2 \n",
            "1 \n"
          ]
        }
      ],
      "source": [
        "num = int(input(\"Enter number: \"))\n",
        "for row in range(num,0,-1):\n",
        "    for column in range(0,row):\n",
        "        print(row, end=\" \")\n",
        "    print( )"
      ]
    }
  ]
}